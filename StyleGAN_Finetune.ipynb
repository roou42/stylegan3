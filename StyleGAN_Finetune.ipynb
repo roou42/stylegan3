{
  "cells": [
    {
      "cell_type": "markdown",
      "metadata": {
        "id": "view-in-github",
        "colab_type": "text"
      },
      "source": [
        "<a href=\"https://colab.research.google.com/github/roou42/stylegan3/blob/main/StyleGAN_Finetune.ipynb\" target=\"_parent\"><img src=\"https://colab.research.google.com/assets/colab-badge.svg\" alt=\"Open In Colab\"/></a>"
      ]
    },
    {
      "cell_type": "code",
      "execution_count": null,
      "metadata": {
        "id": "ab_dv6IQPnRx"
      },
      "outputs": [],
      "source": [
        "#!pip uninstall -y numpy\n",
        "#!pip install numpy==1.25.2\n"
      ]
    },
    {
      "cell_type": "code",
      "execution_count": null,
      "metadata": {
        "id": "tTt_LeKXljk1"
      },
      "outputs": [],
      "source": [
        "!pip install torch==1.13.1+cu117 --extra-index-url https://download.pytorch.org/whl/cu117\n",
        "!pip install click requests tqdm numpy pillow imageio imageio-ffmpeg\n",
        "!pip install ninja\n"
      ]
    },
    {
      "cell_type": "code",
      "execution_count": null,
      "metadata": {
        "colab": {
          "background_save": true
        },
        "id": "tbPmmjBVlld3"
      },
      "outputs": [],
      "source": [
        "!pip uninstall -y tensorflow jax jaxlib tensorboard\n",
        "!pip install tensorboardX"
      ]
    },
    {
      "cell_type": "code",
      "execution_count": null,
      "metadata": {
        "id": "V5MHcND9lpkC"
      },
      "outputs": [],
      "source": [
        "from google.colab import drive\n",
        "drive.mount('/content/drive')"
      ]
    },
    {
      "cell_type": "code",
      "execution_count": null,
      "metadata": {
        "id": "qz19iyqNGwhV"
      },
      "outputs": [],
      "source": [
        "!git clone https://github.com/roou42/stylegan3.git #replace path once repository ownership has changed\n",
        "%cd stylegan3"
      ]
    },
    {
      "cell_type": "code",
      "execution_count": null,
      "metadata": {
        "id": "bNVcbUqwmB6m"
      },
      "outputs": [],
      "source": [
        "!python train.py \\\n",
        "  --outdir=/content/drive/MyDrive/training-runs \\\n",
        "  --cfg=stylegan3-t \\\n",
        "  --data=/content/drive/MyDrive/Asian_1024.zip \\ #zipped folder of training images\n",
        "  --gpus=1 \\\n",
        "  --batch=4 \\\n",
        "  --batch-gpu=2 \\\n",
        "  --gamma=8.2 \\\n",
        "  --mirror=1 \\\n",
        "  --resume=/content/drive/MyDrive/models/stylegan3-t-ffhq-1024x1024.pkl \\ #replace with model path or resume from snapshot pkl file\n",
        "  --kimg=100 \\\n",
        "  --snap=5 \\\n",
        "  --metrics=none \\\n",
        "  --mbstd-group=1 \\\n",
        "  --workers=2\n"
      ]
    }
  ],
  "metadata": {
    "accelerator": "GPU",
    "colab": {
      "gpuType": "T4",
      "provenance": [],
      "authorship_tag": "ABX9TyNNFs656dBTqXSuaRt+oub6",
      "include_colab_link": true
    },
    "kernelspec": {
      "display_name": "Python 3",
      "name": "python3"
    },
    "language_info": {
      "name": "python"
    }
  },
  "nbformat": 4,
  "nbformat_minor": 0
}